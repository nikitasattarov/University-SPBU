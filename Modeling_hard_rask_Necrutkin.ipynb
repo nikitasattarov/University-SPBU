{
 "cells": [
  {
   "cell_type": "code",
   "execution_count": 814,
   "id": "801cf5a4",
   "metadata": {},
   "outputs": [],
   "source": [
    "import matplotlib.pyplot as plt\n",
    "import numpy as np\n",
    "import math\n",
    "from scipy import stats\n",
    "from collections import Counter"
   ]
  },
  {
   "cell_type": "code",
   "execution_count": 815,
   "id": "2c0f5368",
   "metadata": {},
   "outputs": [],
   "source": [
    "def cor_round(x):\n",
    "    return(int(x + (0.5 if x > 0 else -0.5)))\n",
    "\n",
    "def func_lyambda(x, y):\n",
    "    mod_x = math.fabs(x)\n",
    "    mod_y = math.fabs(y)\n",
    "    return(cor_round(mod_x) * (mod_y - math.floor(mod_y)))"
   ]
  },
  {
   "cell_type": "code",
   "execution_count": 816,
   "id": "f052b0d7",
   "metadata": {},
   "outputs": [],
   "source": [
    "def my_distr_func(x):\n",
    "    summa = 0\n",
    "    n = math.floor(x) + 1\n",
    "    while (n != 10000):\n",
    "        summa = summa + math.e ** (-n - x / n)\n",
    "        n = n + 1\n",
    "    f = 1 - math.e ** (-1/2 - math.floor(x)) + math.e ** (1/2 - math.floor(x)) / (math.e - 1) - math.e ** (1/2) * summa\n",
    "    return(f)"
   ]
  },
  {
   "cell_type": "code",
   "execution_count": 817,
   "id": "6b0d1a4f",
   "metadata": {},
   "outputs": [
    {
     "name": "stderr",
     "output_type": "stream",
     "text": [
      "C:\\Users\\ROG\\anaconda3\\lib\\site-packages\\IPython\\core\\interactiveshell.py:3437: RankWarning: Polyfit may be poorly conditioned\n",
      "  exec(code_obj, self.user_global_ns, self.user_ns)\n"
     ]
    },
    {
     "data": {
      "text/plain": [
       "[<matplotlib.lines.Line2D at 0x28a8646bbb0>]"
      ]
     },
     "execution_count": 817,
     "metadata": {},
     "output_type": "execute_result"
    },
    {
     "data": {
      "image/png": "[encoded data removed]",
      "text/plain": [
       "<Figure size 432x288 with 1 Axes>"
      ]
     },
     "metadata": {
      "needs_background": "light"
     },
     "output_type": "display_data"
    }
   ],
   "source": [
    "a = 0\n",
    "b = 2\n",
    "count_points = 10000\n",
    "x = np.linspace(a, b, count_points)\n",
    "y = [my_distr_func(x[i]) for i in range(count_points)]\n",
    "t = np.polyfit(x, y, 150)\n",
    "f = np.poly1d(t)\n",
    "plt.grid() # рисуем сетку\n",
    "#print(f)\n",
    "x1 = np.linspace(a, b, count_points)\n",
    "plt.plot(x1, f(x1), 'b')\n",
    "#plt.plot(x, y, 'o')"
   ]
  },
  {
   "cell_type": "code",
   "execution_count": 818,
   "id": "e7a38bcf",
   "metadata": {},
   "outputs": [],
   "source": [
    "class deterministic_gen(stats.rv_continuous):\n",
    "    def _cdf(self, x):\n",
    "        return np.where(x < 0, (math.e ** x) / 2, 1 - (math.e ** (-x)) / 2)"
   ]
  },
  {
   "cell_type": "code",
   "execution_count": 819,
   "id": "c83cf737",
   "metadata": {},
   "outputs": [],
   "source": [
    "deterministic = deterministic_gen(name=\"deterministic\")\n",
    "left = -100.5\n",
    "right = 100.5\n",
    "delta = 0.0001\n",
    "count_takes = int((right - left) / delta)\n",
    "\n",
    "list_x = np.linspace(left, right, count_takes + 1)\n",
    "list_F_x = deterministic.cdf(list_x)\n",
    "list_y = np.linspace(left, right, count_takes + 1)\n",
    "list_F_y = deterministic.cdf(list_y)\n",
    "#print(list_x)\n",
    "list_P_x_discr = []\n",
    "list_P_y_discr = []\n",
    "for i in range(count_takes):\n",
    "    list_P_x_discr.append(list_F_x[i + 1] - list_F_x[i])\n",
    "    list_P_y_discr.append(list_F_y[i + 1] - list_F_y[i])\n",
    "    \n",
    "list_x = list_x[1:]\n",
    "list_y = list_y[1:]\n",
    "#sum(list_P_discr)"
   ]
  },
  {
   "cell_type": "code",
   "execution_count": 820,
   "id": "3f0dc097",
   "metadata": {},
   "outputs": [],
   "source": [
    "count_model = 1000000\n",
    "yi_takes = np.random.choice(list_y, count_model, p = list_P_y_discr)\n",
    "xi_takes = np.random.choice(list_x, count_model, p = list_P_x_discr)\n",
    "#xi_takes"
   ]
  },
  {
   "cell_type": "code",
   "execution_count": 821,
   "id": "b5922500",
   "metadata": {},
   "outputs": [],
   "source": [
    "func_x = [func_lyambda(xi_takes[i], yi_takes[i]) for i in range(count_model)]\n",
    "#func_x"
   ]
  },
  {
   "cell_type": "code",
   "execution_count": 822,
   "id": "e46df8e5",
   "metadata": {},
   "outputs": [],
   "source": [
    "dict_func_x = Counter(func_x)\n",
    "#dict_func_x"
   ]
  },
  {
   "cell_type": "code",
   "execution_count": 823,
   "id": "a2916e6e",
   "metadata": {},
   "outputs": [],
   "source": [
    "sort_dict_func_x = {}\n",
    "for i in sorted(dict_func_x.keys()):\n",
    "    sort_dict_func_x[i] = dict_func_x[i]\n",
    "#sort_func_x"
   ]
  },
  {
   "cell_type": "code",
   "execution_count": 824,
   "id": "4ef776ab",
   "metadata": {},
   "outputs": [],
   "source": [
    "sort_dict_func_P_x = {}\n",
    "for i in sort_dict_func_x.keys():\n",
    "    sort_dict_func_P_x[i] = sort_dict_func_x[i] / count_model\n",
    "#sort_dict_func_P_x"
   ]
  },
  {
   "cell_type": "code",
   "execution_count": 825,
   "id": "cd2cf57c",
   "metadata": {},
   "outputs": [],
   "source": [
    "new_sort_dict_func_P_x = {}\n",
    "j = 0\n",
    "for i in sort_dict_func_x.keys():\n",
    "    new_sort_dict_func_P_x[j] = (i, sort_dict_func_P_x[i])\n",
    "    j = j + 1\n",
    "#new_sort_dict_func_P_x"
   ]
  },
  {
   "cell_type": "code",
   "execution_count": 826,
   "id": "b9d12d18",
   "metadata": {},
   "outputs": [],
   "source": [
    "for i in range(1, len(new_sort_dict_func_P_x.keys())):\n",
    "    new_sort_dict_func_P_x[i] = (new_sort_dict_func_P_x[i][0], new_sort_dict_func_P_x[i][1] + new_sort_dict_func_P_x[i - 1][1])\n",
    "#new_sort_dict_func_P_x"
   ]
  },
  {
   "cell_type": "code",
   "execution_count": 827,
   "id": "18851621",
   "metadata": {},
   "outputs": [],
   "source": [
    "model_distr_func = {}\n",
    "for i in range(len(new_sort_dict_func_P_x.keys())):\n",
    "    model_distr_func[new_sort_dict_func_P_x[i][0]] = new_sort_dict_func_P_x[i][1]\n",
    "#model_distr_func"
   ]
  },
  {
   "cell_type": "code",
   "execution_count": 828,
   "id": "019949b1",
   "metadata": {},
   "outputs": [
    {
     "data": {
      "text/plain": [
       "56380"
      ]
     },
     "execution_count": 828,
     "metadata": {},
     "output_type": "execute_result"
    }
   ],
   "source": [
    "len(model_distr_func)"
   ]
  },
  {
   "cell_type": "code",
   "execution_count": 829,
   "id": "2b7c000a",
   "metadata": {},
   "outputs": [
    {
     "data": {
      "text/plain": [
       "56380"
      ]
     },
     "execution_count": 829,
     "metadata": {},
     "output_type": "execute_result"
    }
   ],
   "source": [
    "len(model_distr_func)"
   ]
  },
  {
   "cell_type": "code",
   "execution_count": 830,
   "id": "dec42f69",
   "metadata": {},
   "outputs": [
    {
     "name": "stderr",
     "output_type": "stream",
     "text": [
      "C:\\Users\\ROG\\anaconda3\\lib\\site-packages\\numpy\\lib\\polynomial.py:658: RuntimeWarning: overflow encountered in multiply\n",
      "  scale = NX.sqrt((lhs*lhs).sum(axis=0))\n",
      "C:\\Users\\ROG\\anaconda3\\lib\\site-packages\\IPython\\core\\interactiveshell.py:3437: RankWarning: Polyfit may be poorly conditioned\n",
      "  exec(code_obj, self.user_global_ns, self.user_ns)\n"
     ]
    },
    {
     "data": {
      "image/png": "[encoded data removed]",
      "text/plain": [
       "<Figure size 432x288 with 1 Axes>"
      ]
     },
     "metadata": {
      "needs_background": "light"
     },
     "output_type": "display_data"
    }
   ],
   "source": [
    "x_model = list(model_distr_func.keys())\n",
    "y_model = list(model_distr_func.values())\n",
    "t_model = np.polyfit(x_model, y_model, 150)\n",
    "f_model = np.poly1d(t_model)\n",
    "fig, ax = plt.subplots()\n",
    "ax.set_title('Theoretical and practical distribution functions')\n",
    "plt.grid() # рисуем сетку\n",
    "\n",
    "#print(f)\n",
    "x1 = np.linspace(a, b, count_points)\n",
    "plt.plot(x1, f(x1), 'b', label = 'theoretical F')\n",
    "plt.plot(x1, f_model(x1), 'r', label = 'practical f')\n",
    "plt.legend(loc=0)\n",
    "plt.show()\n",
    "#plt.plot(x, y, 'o')"
   ]
  },
  {
   "cell_type": "code",
   "execution_count": null,
   "id": "48aa16a3",
   "metadata": {},
   "outputs": [],
   "source": []
  },
  {
   "cell_type": "code",
   "execution_count": null,
   "id": "e7314291",
   "metadata": {},
   "outputs": [],
   "source": []
  },
  {
   "cell_type": "code",
   "execution_count": null,
   "id": "a30362ef",
   "metadata": {},
   "outputs": [],
   "source": []
  },
  {
   "cell_type": "code",
   "execution_count": 831,
   "id": "1a9b3ebe",
   "metadata": {},
   "outputs": [],
   "source": [
    "a = 0\n",
    "b = 2\n",
    "count_points = 10000\n",
    "y = []\n",
    "x = np.linspace(a, b, count_points)"
   ]
  },
  {
   "cell_type": "code",
   "execution_count": 832,
   "id": "f5ae2dd6",
   "metadata": {},
   "outputs": [],
   "source": [
    "for cur_x in x:\n",
    "    y.append(1 - f(cur_x) / f_model(cur_x))"
   ]
  },
  {
   "cell_type": "code",
   "execution_count": 833,
   "id": "49c596cc",
   "metadata": {},
   "outputs": [
    {
     "data": {
      "text/plain": [
       "0.43627186034360294"
      ]
     },
     "execution_count": 833,
     "metadata": {},
     "output_type": "execute_result"
    }
   ],
   "source": [
    "Absolute_Error = np.linalg.norm(y)\n",
    "Absolute_Error"
   ]
  },
  {
   "cell_type": "code",
   "execution_count": 834,
   "id": "913f43d8",
   "metadata": {},
   "outputs": [],
   "source": [
    "odin = [1 for i in range(count_points)]"
   ]
  },
  {
   "cell_type": "code",
   "execution_count": 835,
   "id": "17ff6b8e",
   "metadata": {},
   "outputs": [
    {
     "name": "stdout",
     "output_type": "stream",
     "text": [
      "Relative Error: 0.004362718603436029\n"
     ]
    }
   ],
   "source": [
    "Relative_Error = Absolute_Error / np.linalg.norm(odin)\n",
    "print('Relative Error: ' + str(Relative_Error))"
   ]
  },
  {
   "cell_type": "code",
   "execution_count": null,
   "id": "e6c38753",
   "metadata": {},
   "outputs": [],
   "source": []
  },
  {
   "cell_type": "code",
   "execution_count": 800,
   "id": "c0598a42",
   "metadata": {},
   "outputs": [
    {
     "data": {
      "text/plain": [
       "0.8938431020430929"
      ]
     },
     "execution_count": 800,
     "metadata": {},
     "output_type": "execute_result"
    }
   ],
   "source": [
    "f(1)"
   ]
  },
  {
   "cell_type": "markdown",
   "id": "d853d7b2",
   "metadata": {},
   "source": []
  },
  {
   "cell_type": "code",
   "execution_count": 801,
   "id": "bcd299f0",
   "metadata": {},
   "outputs": [
    {
     "data": {
      "text/plain": [
       "0.8942788454204718"
      ]
     },
     "execution_count": 801,
     "metadata": {},
     "output_type": "execute_result"
    }
   ],
   "source": [
    "f_model(1)"
   ]
  },
  {
   "cell_type": "code",
   "execution_count": 797,
   "id": "aca8c107",
   "metadata": {},
   "outputs": [
    {
     "data": {
      "text/plain": [
       "0.3934693402873666"
      ]
     },
     "execution_count": 797,
     "metadata": {},
     "output_type": "execute_result"
    }
   ],
   "source": [
    "1-math.e ** (-1/2)"
   ]
  },
  {
   "cell_type": "code",
   "execution_count": null,
   "id": "3a38a0fb",
   "metadata": {},
   "outputs": [],
   "source": []
  },
  {
   "cell_type": "code",
   "execution_count": null,
   "id": "542af371",
   "metadata": {},
   "outputs": [],
   "source": []
  },
  {
   "cell_type": "code",
   "execution_count": null,
   "id": "4da3c777",
   "metadata": {},
   "outputs": [],
   "source": []
  },
  {
   "cell_type": "code",
   "execution_count": null,
   "id": "c4fdea3d",
   "metadata": {},
   "outputs": [],
   "source": []
  },
  {
   "cell_type": "code",
   "execution_count": null,
   "id": "02771993",
   "metadata": {},
   "outputs": [],
   "source": []
  }
 ],
 "metadata": {
  "kernelspec": {
   "display_name": "Python 3",
   "language": "python",
   "name": "python3"
  },
  "language_info": {
   "codemirror_mode": {
    "name": "ipython",
    "version": 3
   },
   "file_extension": ".py",
   "mimetype": "text/x-python",
   "name": "python",
   "nbconvert_exporter": "python",
   "pygments_lexer": "ipython3",
   "version": "3.8.8"
  }
 },
 "nbformat": 4,
 "nbformat_minor": 5
}
